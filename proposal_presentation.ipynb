{
 "cells": [
  {
   "cell_type": "markdown",
   "id": "7fddf825-1518-416d-a859-02130fa3024b",
   "metadata": {},
   "source": [
    "# Xitorch - Project Proposal\n",
    "### Tinie Doan\n",
    "#### All documentation can be found here: https://xitorch.readthedocs.io/en/latest/index.html\n",
    "\n",
    "#### The offictial Github Repo can be found here: https://github.com/xitorch/xitorch\n",
    "\n",
    "From the official Github repo: \"Xitorch is a PyTorch-based library of differentiable functions and functionals that can be widely used in scientific computing applications as well as deep learning.\"\n",
    "\n",
    "Xitorch provides 4 major modules:\n",
    "- optimizing\n",
    "- integrating\n",
    "- linear algebra\n",
    "- interpolation\n",
    "\n",
    "all of which have various applications like rootfinding and SVD. It works by using Pytorch and extending to implement more processes as previously discussed.\n",
    "\n",
    "Further, Xitorch provides instructions on how to build custom linear operators and other custom implementations.\n",
    "\n",
    "***"
   ]
  },
  {
   "cell_type": "markdown",
   "id": "160a3f19-9e87-4b14-8e71-4de4a3d93a73",
   "metadata": {},
   "source": [
    "### EXAMPLE\n",
    "\n",
    "Below is an example of how xitorch.optimize.rootfinding can be used to find the root of a function."
   ]
  },
  {
   "cell_type": "code",
   "execution_count": 3,
   "id": "0934ee00-4310-439d-a0f8-1fa2db43931a",
   "metadata": {},
   "outputs": [],
   "source": [
    "import torch\n",
    "import xitorch\n",
    "import xitorch.linalg as xt_linalg\n",
    "import matplotlib.pyplot as plt\n",
    "import numpy"
   ]
  },
  {
   "cell_type": "code",
   "execution_count": 4,
   "id": "2ce7e4e7-65d3-4136-8696-ab805577bb08",
   "metadata": {},
   "outputs": [
    {
     "ename": "SyntaxError",
     "evalue": "invalid syntax (3296805869.py, line 9)",
     "output_type": "error",
     "traceback": [
      "\u001b[0;36m  Cell \u001b[0;32mIn[4], line 9\u001b[0;36m\u001b[0m\n\u001b[0;31m    [-0.0663]], grad_fn=<_RootFinderBackward>)\u001b[0m\n\u001b[0m                        ^\u001b[0m\n\u001b[0;31mSyntaxError\u001b[0m\u001b[0;31m:\u001b[0m invalid syntax\n"
     ]
    }
   ],
   "source": [
    "def func1(y, A):  # example function\n",
    "    return torch.tanh(A @ y + 0.1) + y / 2.0\n",
    "\n",
    "A = torch.tensor([[1.1, 0.4], [0.3, 0.8]]).requires_grad_()\n",
    "y0 = torch.zeros((2,1))  # zeros as the initial guess\n",
    "yroot = rootfinder(func1, y0, params=(A,))\n",
    "print(yroot)\n",
    "tensor([[-0.0459],\n",
    "        [-0.0663]], grad_fn=<_RootFinderBackward>)"
   ]
  },
  {
   "cell_type": "markdown",
   "id": "11725ead-ef8d-4b78-9f83-98003e08b88f",
   "metadata": {},
   "source": [
    "#### NOTE:\n",
    "\n",
    "I am having a bit of trouble with installing the modules/dependencies for the above example.\n",
    "\n",
    "***"
   ]
  },
  {
   "cell_type": "markdown",
   "id": "a4bf9f35-cb51-40af-ae92-46f8fb688826",
   "metadata": {},
   "source": [
    "### QUESTIONS\n",
    "\n",
    "Not at this time.\n",
    "\n",
    "***"
   ]
  },
  {
   "cell_type": "markdown",
   "id": "01bff753-2564-4f85-a675-227c8b928035",
   "metadata": {},
   "source": [
    "### EXPERIMENT\n",
    "\n",
    "I think it would be exciting to follow theit documentation on writing a custom linear operatoin and/or algorithm implementation. Xitorch provides a very good documentation to do this that extedns their already-existing functions to better assist the user in creating new algorithms."
   ]
  }
 ],
 "metadata": {
  "kernelspec": {
   "display_name": "Python 3 (ipykernel)",
   "language": "python",
   "name": "python3"
  },
  "language_info": {
   "codemirror_mode": {
    "name": "ipython",
    "version": 3
   },
   "file_extension": ".py",
   "mimetype": "text/x-python",
   "name": "python",
   "nbconvert_exporter": "python",
   "pygments_lexer": "ipython3",
   "version": "3.10.8"
  }
 },
 "nbformat": 4,
 "nbformat_minor": 5
}
